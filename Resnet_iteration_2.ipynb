{
  "nbformat": 4,
  "nbformat_minor": 0,
  "metadata": {
    "colab": {
      "name": "Resnet_iteration_2.ipynb",
      "provenance": [],
      "collapsed_sections": [],
      "machine_shape": "hm",
      "include_colab_link": true
    },
    "kernelspec": {
      "name": "python3",
      "display_name": "Python 3"
    },
    "accelerator": "GPU"
  },
  "cells": [
    {
      "cell_type": "markdown",
      "metadata": {
        "id": "view-in-github",
        "colab_type": "text"
      },
      "source": [
        "<a href=\"https://colab.research.google.com/github/rathinchopra98/Residual_Neural_Network/blob/master/Resnet_iteration_2.ipynb\" target=\"_parent\"><img src=\"https://colab.research.google.com/assets/colab-badge.svg\" alt=\"Open In Colab\"/></a>"
      ]
    },
    {
      "cell_type": "code",
      "metadata": {
        "id": "cD0lyak5Yq9p",
        "colab_type": "code",
        "outputId": "e33c4568-5b7d-4ee8-a9b0-2ac73bd1ac29",
        "colab": {
          "base_uri": "https://localhost:8080/",
          "height": 34
        }
      },
      "source": [
        "from __future__ import print_function\n",
        "import keras\n",
        "from keras.layers import Dense, Conv2D, BatchNormalization, Activation\n",
        "from keras.layers import AveragePooling2D, Input, Flatten\n",
        "from keras.optimizers import Adam\n",
        "from keras.callbacks import ModelCheckpoint, LearningRateScheduler\n",
        "from keras.callbacks import ReduceLROnPlateau\n",
        "from keras.preprocessing.image import ImageDataGenerator\n",
        "from keras.regularizers import l2\n",
        "from keras import backend as K\n",
        "from keras.models import Model\n",
        "from keras.datasets import cifar10\n",
        "import numpy as np\n",
        "import pandas as pd\n",
        "import os"
      ],
      "execution_count": 0,
      "outputs": [
        {
          "output_type": "stream",
          "text": [
            "Using TensorFlow backend.\n"
          ],
          "name": "stderr"
        }
      ]
    },
    {
      "cell_type": "code",
      "metadata": {
        "id": "BsGjqCpdYtIK",
        "colab_type": "code",
        "outputId": "8c27bb3d-9e54-4217-9fa9-f461a09253f2",
        "colab": {
          "base_uri": "https://localhost:8080/",
          "height": 122
        }
      },
      "source": [
        "from google.colab import drive\n",
        "drive.mount('/content/drive')"
      ],
      "execution_count": 0,
      "outputs": [
        {
          "output_type": "stream",
          "text": [
            "Go to this URL in a browser: https://accounts.google.com/o/oauth2/auth?client_id=947318989803-6bn6qk8qdgf4n4g3pfee6491hc0brc4i.apps.googleusercontent.com&redirect_uri=urn%3aietf%3awg%3aoauth%3a2.0%3aoob&response_type=code&scope=email%20https%3a%2f%2fwww.googleapis.com%2fauth%2fdocs.test%20https%3a%2f%2fwww.googleapis.com%2fauth%2fdrive%20https%3a%2f%2fwww.googleapis.com%2fauth%2fdrive.photos.readonly%20https%3a%2f%2fwww.googleapis.com%2fauth%2fpeopleapi.readonly\n",
            "\n",
            "Enter your authorization code:\n",
            "··········\n",
            "Mounted at /content/drive\n"
          ],
          "name": "stdout"
        }
      ]
    },
    {
      "cell_type": "code",
      "metadata": {
        "id": "yWtpHuKoY3wa",
        "colab_type": "code",
        "outputId": "665b09d9-6527-4559-c560-7ff0b3d9eabf",
        "colab": {
          "base_uri": "https://localhost:8080/",
          "height": 204
        }
      },
      "source": [
        "train = pd.read_csv('/content/drive/My Drive/cameras.csv')    # reading the csv file\n",
        "train.head()      # printing first five rows of the file"
      ],
      "execution_count": 0,
      "outputs": [
        {
          "output_type": "execute_result",
          "data": {
            "text/html": [
              "<div>\n",
              "<style scoped>\n",
              "    .dataframe tbody tr th:only-of-type {\n",
              "        vertical-align: middle;\n",
              "    }\n",
              "\n",
              "    .dataframe tbody tr th {\n",
              "        vertical-align: top;\n",
              "    }\n",
              "\n",
              "    .dataframe thead th {\n",
              "        text-align: right;\n",
              "    }\n",
              "</style>\n",
              "<table border=\"1\" class=\"dataframe\">\n",
              "  <thead>\n",
              "    <tr style=\"text-align: right;\">\n",
              "      <th></th>\n",
              "      <th>Label Name</th>\n",
              "      <th>Links</th>\n",
              "    </tr>\n",
              "  </thead>\n",
              "  <tbody>\n",
              "    <tr>\n",
              "      <th>0</th>\n",
              "      <td>Panasonic - DMC-FZ1000 20.1-Megapixel Digital ...</td>\n",
              "      <td>https://pisces.bbystatic.com/image2/BestBuy_US...</td>\n",
              "    </tr>\n",
              "    <tr>\n",
              "      <th>1</th>\n",
              "      <td>Sony - Alpha a7 II Full-Frame Mirrorless Video...</td>\n",
              "      <td>https://pisces.bbystatic.com/image2/BestBuy_US...</td>\n",
              "    </tr>\n",
              "    <tr>\n",
              "      <th>2</th>\n",
              "      <td>Sony - Alpha a7 II Full-Frame Mirrorless Video...</td>\n",
              "      <td>https://pisces.bbystatic.com/image2/BestBuy_US...</td>\n",
              "    </tr>\n",
              "    <tr>\n",
              "      <th>3</th>\n",
              "      <td>Sony - Alpha A6000 Mirrorless Camera (Body Onl...</td>\n",
              "      <td>https://pisces.bbystatic.com/image2/BestBuy_US...</td>\n",
              "    </tr>\n",
              "    <tr>\n",
              "      <th>4</th>\n",
              "      <td>Sony - DSC-W830 20.1-Megapixel Digital Camera ...</td>\n",
              "      <td>https://pisces.bbystatic.com/image2/BestBuy_US...</td>\n",
              "    </tr>\n",
              "  </tbody>\n",
              "</table>\n",
              "</div>"
            ],
            "text/plain": [
              "                                          Label Name                                              Links\n",
              "0  Panasonic - DMC-FZ1000 20.1-Megapixel Digital ...  https://pisces.bbystatic.com/image2/BestBuy_US...\n",
              "1  Sony - Alpha a7 II Full-Frame Mirrorless Video...  https://pisces.bbystatic.com/image2/BestBuy_US...\n",
              "2  Sony - Alpha a7 II Full-Frame Mirrorless Video...  https://pisces.bbystatic.com/image2/BestBuy_US...\n",
              "3  Sony - Alpha A6000 Mirrorless Camera (Body Onl...  https://pisces.bbystatic.com/image2/BestBuy_US...\n",
              "4  Sony - DSC-W830 20.1-Megapixel Digital Camera ...  https://pisces.bbystatic.com/image2/BestBuy_US..."
            ]
          },
          "metadata": {
            "tags": []
          },
          "execution_count": 3
        }
      ]
    },
    {
      "cell_type": "code",
      "metadata": {
        "id": "voB8HbSDY5kh",
        "colab_type": "code",
        "colab": {}
      },
      "source": [
        "from PIL import Image\n",
        "import requests\n",
        "from io import BytesIO\n",
        "\n",
        "train_image = []\n",
        "y = []\n",
        "for i in range(len(train)):\n",
        "  train['Links'][i] = train['Links'][i].replace(\" \", \"\")\n",
        "  image_array = train['Links'][i].split(',')\n",
        "  for j in range(len(image_array)):\n",
        "    response = requests.get(image_array[j])\n",
        "    img = Image.open(BytesIO(response.content))\n",
        "    img = img.resize((350, 350), Image.ANTIALIAS)\n",
        "    img = keras.preprocessing.image.img_to_array(img)\n",
        "    img = img.astype('float32')/255\n",
        "    if img.shape == (350,350,3):\n",
        "      train_image.append(img)\n",
        "      y.append(train['Label Name'][i])"
      ],
      "execution_count": 0,
      "outputs": []
    },
    {
      "cell_type": "code",
      "metadata": {
        "id": "X0a15rQiY9DQ",
        "colab_type": "code",
        "colab": {}
      },
      "source": [
        "X = np.array(train_image)\n",
        "y = np.array(y)"
      ],
      "execution_count": 0,
      "outputs": []
    },
    {
      "cell_type": "code",
      "metadata": {
        "id": "rMJC17TsDVYG",
        "colab_type": "code",
        "colab": {}
      },
      "source": [
        "from numpy import savetxt\n",
        "np.save('/content/drive/My Drive/X_numpy_DigitalCameras.csv', X)\n",
        "np.save('/content/drive/My Drive/Y_numpy_DigitalCameras.csv', y)"
      ],
      "execution_count": 0,
      "outputs": []
    },
    {
      "cell_type": "code",
      "metadata": {
        "id": "VDtub68qzr4n",
        "colab_type": "code",
        "colab": {}
      },
      "source": [
        "y = np.load('/content/drive/My Drive/Y_numpy_DigitalCameras.csv.npy')\n",
        "X = np.load('/content/drive/My Drive/X_numpy_DigitalCameras.csv.npy')"
      ],
      "execution_count": 0,
      "outputs": []
    },
    {
      "cell_type": "code",
      "metadata": {
        "id": "OYtDHH5iY-qh",
        "colab_type": "code",
        "outputId": "6981543b-e6a3-4a9c-8e3b-ecb7190435ed",
        "colab": {
          "base_uri": "https://localhost:8080/",
          "height": 34
        }
      },
      "source": [
        "y_copy = np.array(y)\n",
        "print(y_copy[0])"
      ],
      "execution_count": 0,
      "outputs": [
        {
          "output_type": "stream",
          "text": [
            "Panasonic - DMC-FZ1000 20.1-Megapixel Digital Camera - Black\n"
          ],
          "name": "stdout"
        }
      ]
    },
    {
      "cell_type": "code",
      "metadata": {
        "id": "xtB3Mg9hb887",
        "colab_type": "code",
        "colab": {}
      },
      "source": [
        "y = pd.get_dummies(y)"
      ],
      "execution_count": 0,
      "outputs": []
    },
    {
      "cell_type": "code",
      "metadata": {
        "id": "zW8JSB7MnoCO",
        "colab_type": "code",
        "outputId": "367dcfef-1053-403d-8438-de7cff624abc",
        "colab": {
          "base_uri": "https://localhost:8080/",
          "height": 34
        }
      },
      "source": [
        "y.shape"
      ],
      "execution_count": 0,
      "outputs": [
        {
          "output_type": "execute_result",
          "data": {
            "text/plain": [
              "(1143, 60)"
            ]
          },
          "metadata": {
            "tags": []
          },
          "execution_count": 7
        }
      ]
    },
    {
      "cell_type": "code",
      "metadata": {
        "id": "THVdLTfKZAqk",
        "colab_type": "code",
        "outputId": "712309f5-94a7-473f-de99-0bf5602bf8a9",
        "colab": {
          "base_uri": "https://localhost:8080/",
          "height": 286
        }
      },
      "source": [
        "import matplotlib.pyplot as plt\n",
        "\n",
        "img_path = X[1]  \n",
        "print(img_path.shape)\n",
        "if(len(img_path.shape) == 3):\n",
        "    plt.imshow(np.squeeze(img_path))\n",
        "elif(len(img_path.shape) == 2):\n",
        "    plt.imshow(img_path)\n",
        "else:\n",
        "    print(\"Higher dimensional data\")"
      ],
      "execution_count": 0,
      "outputs": [
        {
          "output_type": "stream",
          "text": [
            "(350, 350, 3)\n"
          ],
          "name": "stdout"
        },
        {
          "output_type": "display_data",
          "data": {
            "image/png": "[encoded data removed]",
            "text/plain": [
              "<Figure size 432x288 with 1 Axes>"
            ]
          },
          "metadata": {
            "tags": [],
            "needs_background": "light"
          }
        }
      ]
    },
    {
      "cell_type": "code",
      "metadata": {
        "id": "0mnsVbrWZH4R",
        "colab_type": "code",
        "outputId": "c78ca6c3-e399-44e0-f899-5b246a4b11e5",
        "colab": {
          "base_uri": "https://localhost:8080/",
          "height": 34
        }
      },
      "source": [
        "# Training parameters\n",
        "batch_size = 16  # orig paper trained all networks with batch_size=128\n",
        "epochs = 25\n",
        "data_augmentation = False\n",
        "num_classes = y.shape[1]\n",
        "print(num_classes)\n",
        "\n",
        "# Subtracting pixel mean improves accuracy\n",
        "subtract_pixel_mean = True"
      ],
      "execution_count": 0,
      "outputs": [
        {
          "output_type": "stream",
          "text": [
            "60\n"
          ],
          "name": "stdout"
        }
      ]
    },
    {
      "cell_type": "code",
      "metadata": {
        "id": "_yax5B0cZMD_",
        "colab_type": "code",
        "colab": {}
      },
      "source": [
        "# Model version\n",
        "# Orig paper: version = 1 (ResNet v1), Improved ResNet: version = 2 (ResNet v2)\n",
        "version = 2\n",
        "n = 6\n",
        "\n",
        "# Computed depth from supplied model parameter n\n",
        "if version == 1:\n",
        "    depth = n * 6 + 2\n",
        "elif version == 2:\n",
        "    depth = n * 9 + 2"
      ],
      "execution_count": 0,
      "outputs": []
    },
    {
      "cell_type": "code",
      "metadata": {
        "id": "fez3BMHXZtdG",
        "colab_type": "code",
        "colab": {}
      },
      "source": [
        "# Model name, depth and version\n",
        "model_type = 'ResNet%dv%d' % (depth, version)"
      ],
      "execution_count": 0,
      "outputs": []
    },
    {
      "cell_type": "code",
      "metadata": {
        "id": "yFRsYS_BZuSE",
        "colab_type": "code",
        "colab": {}
      },
      "source": [
        "from sklearn.model_selection import train_test_split\n",
        "X_train, X_test, y_train, y_test = train_test_split(X, y, random_state=42, test_size=0.2)"
      ],
      "execution_count": 0,
      "outputs": []
    },
    {
      "cell_type": "code",
      "metadata": {
        "id": "RaJbpM8DZ1H-",
        "colab_type": "code",
        "colab": {}
      },
      "source": [
        "# Input image dimensions.\n",
        "input_shape = X_train.shape[1:]"
      ],
      "execution_count": 0,
      "outputs": []
    },
    {
      "cell_type": "code",
      "metadata": {
        "id": "RYQWMeabZ7SK",
        "colab_type": "code",
        "colab": {}
      },
      "source": [
        "# If subtract pixel mean is enabled\n",
        "if subtract_pixel_mean:\n",
        "    X_train_mean = np.mean(X_train, axis=0)\n",
        "    X_train -= X_train_mean\n",
        "    X_test -= X_train_mean"
      ],
      "execution_count": 0,
      "outputs": []
    },
    {
      "cell_type": "code",
      "metadata": {
        "id": "O7LXWjwBZ_xA",
        "colab_type": "code",
        "outputId": "977a9b51-3883-497e-94f7-ada074dec6e4",
        "colab": {
          "base_uri": "https://localhost:8080/",
          "height": 85
        }
      },
      "source": [
        "print('x_train shape:', X_train.shape)\n",
        "print(X_train.shape[0], 'train samples')\n",
        "print(X_test.shape[0], 'test samples')\n",
        "print('y_train shape:', y_train.shape)"
      ],
      "execution_count": 0,
      "outputs": [
        {
          "output_type": "stream",
          "text": [
            "x_train shape: (914, 350, 350, 3)\n",
            "914 train samples\n",
            "229 test samples\n",
            "y_train shape: (914, 60)\n"
          ],
          "name": "stdout"
        }
      ]
    },
    {
      "cell_type": "code",
      "metadata": {
        "id": "4ptLkf9fiAZ4",
        "colab_type": "code",
        "outputId": "78902481-6f83-41a6-fb9f-9c05bc68815c",
        "colab": {
          "base_uri": "https://localhost:8080/",
          "height": 34
        }
      },
      "source": [
        "print(y.shape)"
      ],
      "execution_count": 0,
      "outputs": [
        {
          "output_type": "stream",
          "text": [
            "(1143, 60)\n"
          ],
          "name": "stdout"
        }
      ]
    },
    {
      "cell_type": "code",
      "metadata": {
        "id": "YMUhExKnaEpZ",
        "colab_type": "code",
        "colab": {}
      },
      "source": [
        "def lr_schedule(epoch):\n",
        "    \"\"\"Learning Rate Schedule\n",
        "\n",
        "    Learning rate is scheduled to be reduced after 80, 120, 160, 180 epochs.\n",
        "    Called automatically every epoch as part of callbacks during training.\n",
        "\n",
        "    # Arguments\n",
        "        epoch (int): The number of epochs\n",
        "\n",
        "    # Returns\n",
        "        lr (float32): learning rate\n",
        "    \"\"\"\n",
        "    lr = 1e-3\n",
        "    if epoch > 180:\n",
        "        lr *= 0.5e-3\n",
        "    elif epoch > 160:\n",
        "        lr *= 1e-3\n",
        "    elif epoch > 120:\n",
        "        lr *= 1e-2\n",
        "    elif epoch > 80:\n",
        "        lr *= 1e-1\n",
        "    print('Learning rate: ', lr)\n",
        "    return lr\n",
        "\n",
        "\n",
        "def resnet_layer(inputs,\n",
        "                 num_filters=16,\n",
        "                 kernel_size=3,\n",
        "                 strides=1,\n",
        "                 activation='relu',\n",
        "                 batch_normalization=True,\n",
        "                 conv_first=True):\n",
        "    \"\"\"2D Convolution-Batch Normalization-Activation stack builder\n",
        "\n",
        "    # Arguments\n",
        "        inputs (tensor): input tensor from input image or previous layer\n",
        "        num_filters (int): Conv2D number of filters\n",
        "        kernel_size (int): Conv2D square kernel dimensions\n",
        "        strides (int): Conv2D square stride dimensions\n",
        "        activation (string): activation name\n",
        "        batch_normalization (bool): whether to include batch normalization\n",
        "        conv_first (bool): conv-bn-activation (True) or\n",
        "            bn-activation-conv (False)\n",
        "\n",
        "    # Returns\n",
        "        x (tensor): tensor as input to the next layer\n",
        "    \"\"\"\n",
        "    conv = Conv2D(num_filters,\n",
        "                  kernel_size=kernel_size,\n",
        "                  strides=strides,\n",
        "                  padding='same',\n",
        "                  kernel_initializer='he_normal',\n",
        "                  kernel_regularizer=l2(1e-4))\n",
        "\n",
        "    x = inputs\n",
        "    if conv_first:\n",
        "        x = conv(x)\n",
        "        if batch_normalization:\n",
        "            x = BatchNormalization()(x)\n",
        "        if activation is not None:\n",
        "            x = Activation(activation)(x)\n",
        "    else:\n",
        "        if batch_normalization:\n",
        "            x = BatchNormalization()(x)\n",
        "        if activation is not None:\n",
        "            x = Activation(activation)(x)\n",
        "        x = conv(x)\n",
        "    return x\n",
        "\n",
        "\n",
        "def resnet_v1(input_shape, depth, num_classes=y.shape[1]):\n",
        "    \"\"\"ResNet Version 1 Model builder [a]\n",
        "\n",
        "    Stacks of 2 x (3 x 3) Conv2D-BN-ReLU\n",
        "    Last ReLU is after the shortcut connection.\n",
        "    At the beginning of each stage, the feature map size is halved (downsampled)\n",
        "    by a convolutional layer with strides=2, while the number of filters is\n",
        "    doubled. Within each stage, the layers have the same number filters and the\n",
        "    same number of filters.\n",
        "    Features maps sizes:\n",
        "    stage 0: 32x32, 16\n",
        "    stage 1: 16x16, 32\n",
        "    stage 2:  8x8,  64\n",
        "    The Number of parameters is approx the same as Table 6 of [a]:\n",
        "    ResNet20 0.27M\n",
        "    ResNet32 0.46M\n",
        "    ResNet44 0.66M\n",
        "    ResNet56 0.85M\n",
        "    ResNet110 1.7M\n",
        "\n",
        "    # Arguments\n",
        "        input_shape (tensor): shape of input image tensor\n",
        "        depth (int): number of core convolutional layers\n",
        "        num_classes (int): number of classes (CIFAR10 has 10)\n",
        "\n",
        "    # Returns\n",
        "        model (Model): Keras model instance\n",
        "    \"\"\"\n",
        "    if (depth - 2) % 6 != 0:\n",
        "        raise ValueError('depth should be 6n+2 (eg 20, 32, 44 in [a])')\n",
        "    # Start model definition.\n",
        "    num_filters = 16\n",
        "    num_res_blocks = int((depth - 2) / 6)\n",
        "\n",
        "    inputs = Input(shape=input_shape)\n",
        "    x = resnet_layer(inputs=inputs)\n",
        "    # Instantiate the stack of residual units\n",
        "    for stack in range(3):\n",
        "        for res_block in range(num_res_blocks):\n",
        "            strides = 1\n",
        "            if stack > 0 and res_block == 0:  # first layer but not first stack\n",
        "                strides = 2  # downsample\n",
        "            y = resnet_layer(inputs=x,\n",
        "                             num_filters=num_filters,\n",
        "                             strides=strides)\n",
        "            y = resnet_layer(inputs=y,\n",
        "                             num_filters=num_filters,\n",
        "                             activation=None)\n",
        "            if stack > 0 and res_block == 0:  # first layer but not first stack\n",
        "                # linear projection residual shortcut connection to match\n",
        "                # changed dims\n",
        "                x = resnet_layer(inputs=x,\n",
        "                                 num_filters=num_filters,\n",
        "                                 kernel_size=1,\n",
        "                                 strides=strides,\n",
        "                                 activation=None,\n",
        "                                 batch_normalization=False)\n",
        "            x = keras.layers.add([x, y])\n",
        "            x = Activation('relu')(x)\n",
        "        num_filters *= 2\n",
        "\n",
        "    # Add classifier on top.\n",
        "    # v1 does not use BN after last shortcut connection-ReLU\n",
        "    x = AveragePooling2D(pool_size=8)(x)\n",
        "    y = Flatten()(x)\n",
        "    outputs = Dense(num_classes,\n",
        "                    activation='softmax',\n",
        "                    kernel_initializer='he_normal')(y)\n",
        "\n",
        "    # Instantiate model.\n",
        "    model = Model(inputs=inputs, outputs=outputs)\n",
        "    return model\n",
        "\n",
        "\n",
        "def resnet_v2(input_shape, depth, num_classes=y.shape[1]):\n",
        "    \"\"\"ResNet Version 2 Model builder [b]\n",
        "\n",
        "    Stacks of (1 x 1)-(3 x 3)-(1 x 1) BN-ReLU-Conv2D or also known as\n",
        "    bottleneck layer\n",
        "    First shortcut connection per layer is 1 x 1 Conv2D.\n",
        "    Second and onwards shortcut connection is identity.\n",
        "    At the beginning of each stage, the feature map size is halved (downsampled)\n",
        "    by a convolutional layer with strides=2, while the number of filter maps is\n",
        "    doubled. Within each stage, the layers have the same number filters and the\n",
        "    same filter map sizes.\n",
        "    Features maps sizes:\n",
        "    conv1  : 32x32,  16\n",
        "    stage 0: 32x32,  64\n",
        "    stage 1: 16x16, 128\n",
        "    stage 2:  8x8,  256\n",
        "\n",
        "    # Arguments\n",
        "        input_shape (tensor): shape of input image tensor\n",
        "        depth (int): number of core convolutional layers\n",
        "        num_classes (int): number of classes (CIFAR10 has 10)\n",
        "\n",
        "    # Returns\n",
        "        model (Model): Keras model instance\n",
        "    \"\"\"\n",
        "    if (depth - 2) % 9 != 0:\n",
        "        raise ValueError('depth should be 9n+2 (eg 56 or 110 in [b])')\n",
        "    # Start model definition.\n",
        "    num_filters_in = 16\n",
        "    num_res_blocks = int((depth - 2) / 9)\n",
        "\n",
        "    inputs = Input(shape=input_shape)\n",
        "    # v2 performs Conv2D with BN-ReLU on input before splitting into 2 paths\n",
        "    x = resnet_layer(inputs=inputs,\n",
        "                     num_filters=num_filters_in,\n",
        "                     conv_first=True)\n",
        "\n",
        "    # Instantiate the stack of residual units\n",
        "    for stage in range(3):\n",
        "        for res_block in range(num_res_blocks):\n",
        "            activation = 'relu'\n",
        "            batch_normalization = True\n",
        "            strides = 1\n",
        "            if stage == 0:\n",
        "                num_filters_out = num_filters_in * 4\n",
        "                if res_block == 0:  # first layer and first stage\n",
        "                    activation = None\n",
        "                    batch_normalization = False\n",
        "            else:\n",
        "                num_filters_out = num_filters_in * 2\n",
        "                if res_block == 0:  # first layer but not first stage\n",
        "                    strides = 2    # downsample\n",
        "\n",
        "            # bottleneck residual unit\n",
        "            y = resnet_layer(inputs=x,\n",
        "                             num_filters=num_filters_in,\n",
        "                             kernel_size=1,\n",
        "                             strides=strides,\n",
        "                             activation=activation,\n",
        "                             batch_normalization=batch_normalization,\n",
        "                             conv_first=False)\n",
        "            y = resnet_layer(inputs=y,\n",
        "                             num_filters=num_filters_in,\n",
        "                             conv_first=False)\n",
        "            y = resnet_layer(inputs=y,\n",
        "                             num_filters=num_filters_out,\n",
        "                             kernel_size=1,\n",
        "                             conv_first=False)\n",
        "            if res_block == 0:\n",
        "                # linear projection residual shortcut connection to match\n",
        "                # changed dims\n",
        "                x = resnet_layer(inputs=x,\n",
        "                                 num_filters=num_filters_out,\n",
        "                                 kernel_size=1,\n",
        "                                 strides=strides,\n",
        "                                 activation=None,\n",
        "                                 batch_normalization=False)\n",
        "            x = keras.layers.add([x, y])\n",
        "\n",
        "        num_filters_in = num_filters_out\n",
        "\n",
        "    # Add classifier on top.\n",
        "    # v2 has BN-ReLU before Pooling\n",
        "    x = BatchNormalization()(x)\n",
        "    x = Activation('relu')(x)\n",
        "    x = AveragePooling2D(pool_size=8)(x)\n",
        "    y = Flatten()(x)\n",
        "    outputs = Dense(num_classes,\n",
        "                    activation='softmax',\n",
        "                    kernel_initializer='he_normal')(y)\n",
        "\n",
        "    # Instantiate model.\n",
        "    model = Model(inputs=inputs, outputs=outputs)\n",
        "    return model"
      ],
      "execution_count": 0,
      "outputs": []
    },
    {
      "cell_type": "code",
      "metadata": {
        "id": "0fCtyQct2fL3",
        "colab_type": "code",
        "colab": {}
      },
      "source": [
        "# import tensorflow as tf\n",
        "# from keras.backend.tensorflow_backend import set_session\n",
        "# config = tf.compat.v1.ConfigProto()\n",
        "# config.gpu_options.per_process_gpu_memory_fraction = 0.3\n",
        "# config.gpu_options.visible_device_list = \"0\"\n",
        "# set_session(tf.compat.v1.Session(config=config))\n",
        "\n",
        "# if 'tensorflow' == K.backend():\n",
        "#   import tensorflow as tf\n",
        "\n",
        "# from keras.backend.tensorflow_backend import set_session\n",
        "# config = tf.compat.v1.ConfigProto()\n",
        "# config.gpu_options.allow_growth = True\n",
        "# config.gpu_options.visible_device_list = \"0\"\n",
        "# #session = tf.Session(config=config)\n",
        "# set_session(tf.compat.v1.Session(config=config))\n",
        "#pip install tensorflow==1.4.1"
      ],
      "execution_count": 0,
      "outputs": []
    },
    {
      "cell_type": "code",
      "metadata": {
        "id": "uymM0_MsaExV",
        "colab_type": "code",
        "outputId": "02d076b2-1620-4bd1-9c87-bb4422140d28",
        "colab": {
          "base_uri": "https://localhost:8080/",
          "height": 1000
        }
      },
      "source": [
        "if version == 2:\n",
        "    model = resnet_v2(input_shape=input_shape, depth=depth)\n",
        "else:\n",
        "    model = resnet_v1(input_shape=input_shape, depth=depth)\n",
        "\n",
        "model.compile(loss='categorical_crossentropy',\n",
        "              optimizer=Adam(learning_rate=lr_schedule(0)),\n",
        "              metrics=['accuracy'])\n",
        "model.summary()\n",
        "print(model_type)"
      ],
      "execution_count": 0,
      "outputs": [
        {
          "output_type": "stream",
          "text": [
            "Learning rate:  0.001\n",
            "Model: \"model_3\"\n",
            "__________________________________________________________________________________________________\n",
            "Layer (type)                    Output Shape         Param #     Connected to                     \n",
            "==================================================================================================\n",
            "input_3 (InputLayer)            (None, 350, 350, 3)  0                                            \n",
            "__________________________________________________________________________________________________\n",
            "conv2d_117 (Conv2D)             (None, 350, 350, 16) 448         input_3[0][0]                    \n",
            "__________________________________________________________________________________________________\n",
            "batch_normalization_111 (BatchN (None, 350, 350, 16) 64          conv2d_117[0][0]                 \n",
            "__________________________________________________________________________________________________\n",
            "activation_111 (Activation)     (None, 350, 350, 16) 0           batch_normalization_111[0][0]    \n",
            "__________________________________________________________________________________________________\n",
            "conv2d_118 (Conv2D)             (None, 350, 350, 16) 2320        activation_111[0][0]             \n",
            "__________________________________________________________________________________________________\n",
            "batch_normalization_112 (BatchN (None, 350, 350, 16) 64          conv2d_118[0][0]                 \n",
            "__________________________________________________________________________________________________\n",
            "activation_112 (Activation)     (None, 350, 350, 16) 0           batch_normalization_112[0][0]    \n",
            "__________________________________________________________________________________________________\n",
            "conv2d_119 (Conv2D)             (None, 350, 350, 16) 2320        activation_112[0][0]             \n",
            "__________________________________________________________________________________________________\n",
            "batch_normalization_113 (BatchN (None, 350, 350, 16) 64          conv2d_119[0][0]                 \n",
            "__________________________________________________________________________________________________\n",
            "add_37 (Add)                    (None, 350, 350, 16) 0           activation_111[0][0]             \n",
            "                                                                 batch_normalization_113[0][0]    \n",
            "__________________________________________________________________________________________________\n",
            "activation_113 (Activation)     (None, 350, 350, 16) 0           add_37[0][0]                     \n",
            "__________________________________________________________________________________________________\n",
            "conv2d_120 (Conv2D)             (None, 350, 350, 16) 2320        activation_113[0][0]             \n",
            "__________________________________________________________________________________________________\n",
            "batch_normalization_114 (BatchN (None, 350, 350, 16) 64          conv2d_120[0][0]                 \n",
            "__________________________________________________________________________________________________\n",
            "activation_114 (Activation)     (None, 350, 350, 16) 0           batch_normalization_114[0][0]    \n",
            "__________________________________________________________________________________________________\n",
            "conv2d_121 (Conv2D)             (None, 350, 350, 16) 2320        activation_114[0][0]             \n",
            "__________________________________________________________________________________________________\n",
            "batch_normalization_115 (BatchN (None, 350, 350, 16) 64          conv2d_121[0][0]                 \n",
            "__________________________________________________________________________________________________\n",
            "add_38 (Add)                    (None, 350, 350, 16) 0           activation_113[0][0]             \n",
            "                                                                 batch_normalization_115[0][0]    \n",
            "__________________________________________________________________________________________________\n",
            "activation_115 (Activation)     (None, 350, 350, 16) 0           add_38[0][0]                     \n",
            "__________________________________________________________________________________________________\n",
            "conv2d_122 (Conv2D)             (None, 350, 350, 16) 2320        activation_115[0][0]             \n",
            "__________________________________________________________________________________________________\n",
            "batch_normalization_116 (BatchN (None, 350, 350, 16) 64          conv2d_122[0][0]                 \n",
            "__________________________________________________________________________________________________\n",
            "activation_116 (Activation)     (None, 350, 350, 16) 0           batch_normalization_116[0][0]    \n",
            "__________________________________________________________________________________________________\n",
            "conv2d_123 (Conv2D)             (None, 350, 350, 16) 2320        activation_116[0][0]             \n",
            "__________________________________________________________________________________________________\n",
            "batch_normalization_117 (BatchN (None, 350, 350, 16) 64          conv2d_123[0][0]                 \n",
            "__________________________________________________________________________________________________\n",
            "add_39 (Add)                    (None, 350, 350, 16) 0           activation_115[0][0]             \n",
            "                                                                 batch_normalization_117[0][0]    \n",
            "__________________________________________________________________________________________________\n",
            "activation_117 (Activation)     (None, 350, 350, 16) 0           add_39[0][0]                     \n",
            "__________________________________________________________________________________________________\n",
            "conv2d_124 (Conv2D)             (None, 350, 350, 16) 2320        activation_117[0][0]             \n",
            "__________________________________________________________________________________________________\n",
            "batch_normalization_118 (BatchN (None, 350, 350, 16) 64          conv2d_124[0][0]                 \n",
            "__________________________________________________________________________________________________\n",
            "activation_118 (Activation)     (None, 350, 350, 16) 0           batch_normalization_118[0][0]    \n",
            "__________________________________________________________________________________________________\n",
            "conv2d_125 (Conv2D)             (None, 350, 350, 16) 2320        activation_118[0][0]             \n",
            "__________________________________________________________________________________________________\n",
            "batch_normalization_119 (BatchN (None, 350, 350, 16) 64          conv2d_125[0][0]                 \n",
            "__________________________________________________________________________________________________\n",
            "add_40 (Add)                    (None, 350, 350, 16) 0           activation_117[0][0]             \n",
            "                                                                 batch_normalization_119[0][0]    \n",
            "__________________________________________________________________________________________________\n",
            "activation_119 (Activation)     (None, 350, 350, 16) 0           add_40[0][0]                     \n",
            "__________________________________________________________________________________________________\n",
            "conv2d_126 (Conv2D)             (None, 350, 350, 16) 2320        activation_119[0][0]             \n",
            "__________________________________________________________________________________________________\n",
            "batch_normalization_120 (BatchN (None, 350, 350, 16) 64          conv2d_126[0][0]                 \n",
            "__________________________________________________________________________________________________\n",
            "activation_120 (Activation)     (None, 350, 350, 16) 0           batch_normalization_120[0][0]    \n",
            "__________________________________________________________________________________________________\n",
            "conv2d_127 (Conv2D)             (None, 350, 350, 16) 2320        activation_120[0][0]             \n",
            "__________________________________________________________________________________________________\n",
            "batch_normalization_121 (BatchN (None, 350, 350, 16) 64          conv2d_127[0][0]                 \n",
            "__________________________________________________________________________________________________\n",
            "add_41 (Add)                    (None, 350, 350, 16) 0           activation_119[0][0]             \n",
            "                                                                 batch_normalization_121[0][0]    \n",
            "__________________________________________________________________________________________________\n",
            "activation_121 (Activation)     (None, 350, 350, 16) 0           add_41[0][0]                     \n",
            "__________________________________________________________________________________________________\n",
            "conv2d_128 (Conv2D)             (None, 350, 350, 16) 2320        activation_121[0][0]             \n",
            "__________________________________________________________________________________________________\n",
            "batch_normalization_122 (BatchN (None, 350, 350, 16) 64          conv2d_128[0][0]                 \n",
            "__________________________________________________________________________________________________\n",
            "activation_122 (Activation)     (None, 350, 350, 16) 0           batch_normalization_122[0][0]    \n",
            "__________________________________________________________________________________________________\n",
            "conv2d_129 (Conv2D)             (None, 350, 350, 16) 2320        activation_122[0][0]             \n",
            "__________________________________________________________________________________________________\n",
            "batch_normalization_123 (BatchN (None, 350, 350, 16) 64          conv2d_129[0][0]                 \n",
            "__________________________________________________________________________________________________\n",
            "add_42 (Add)                    (None, 350, 350, 16) 0           activation_121[0][0]             \n",
            "                                                                 batch_normalization_123[0][0]    \n",
            "__________________________________________________________________________________________________\n",
            "activation_123 (Activation)     (None, 350, 350, 16) 0           add_42[0][0]                     \n",
            "__________________________________________________________________________________________________\n",
            "conv2d_130 (Conv2D)             (None, 175, 175, 32) 4640        activation_123[0][0]             \n",
            "__________________________________________________________________________________________________\n",
            "batch_normalization_124 (BatchN (None, 175, 175, 32) 128         conv2d_130[0][0]                 \n",
            "__________________________________________________________________________________________________\n",
            "activation_124 (Activation)     (None, 175, 175, 32) 0           batch_normalization_124[0][0]    \n",
            "__________________________________________________________________________________________________\n",
            "conv2d_131 (Conv2D)             (None, 175, 175, 32) 9248        activation_124[0][0]             \n",
            "__________________________________________________________________________________________________\n",
            "conv2d_132 (Conv2D)             (None, 175, 175, 32) 544         activation_123[0][0]             \n",
            "__________________________________________________________________________________________________\n",
            "batch_normalization_125 (BatchN (None, 175, 175, 32) 128         conv2d_131[0][0]                 \n",
            "__________________________________________________________________________________________________\n",
            "add_43 (Add)                    (None, 175, 175, 32) 0           conv2d_132[0][0]                 \n",
            "                                                                 batch_normalization_125[0][0]    \n",
            "__________________________________________________________________________________________________\n",
            "activation_125 (Activation)     (None, 175, 175, 32) 0           add_43[0][0]                     \n",
            "__________________________________________________________________________________________________\n",
            "conv2d_133 (Conv2D)             (None, 175, 175, 32) 9248        activation_125[0][0]             \n",
            "__________________________________________________________________________________________________\n",
            "batch_normalization_126 (BatchN (None, 175, 175, 32) 128         conv2d_133[0][0]                 \n",
            "__________________________________________________________________________________________________\n",
            "activation_126 (Activation)     (None, 175, 175, 32) 0           batch_normalization_126[0][0]    \n",
            "__________________________________________________________________________________________________\n",
            "conv2d_134 (Conv2D)             (None, 175, 175, 32) 9248        activation_126[0][0]             \n",
            "__________________________________________________________________________________________________\n",
            "batch_normalization_127 (BatchN (None, 175, 175, 32) 128         conv2d_134[0][0]                 \n",
            "__________________________________________________________________________________________________\n",
            "add_44 (Add)                    (None, 175, 175, 32) 0           activation_125[0][0]             \n",
            "                                                                 batch_normalization_127[0][0]    \n",
            "__________________________________________________________________________________________________\n",
            "activation_127 (Activation)     (None, 175, 175, 32) 0           add_44[0][0]                     \n",
            "__________________________________________________________________________________________________\n",
            "conv2d_135 (Conv2D)             (None, 175, 175, 32) 9248        activation_127[0][0]             \n",
            "__________________________________________________________________________________________________\n",
            "batch_normalization_128 (BatchN (None, 175, 175, 32) 128         conv2d_135[0][0]                 \n",
            "__________________________________________________________________________________________________\n",
            "activation_128 (Activation)     (None, 175, 175, 32) 0           batch_normalization_128[0][0]    \n",
            "__________________________________________________________________________________________________\n",
            "conv2d_136 (Conv2D)             (None, 175, 175, 32) 9248        activation_128[0][0]             \n",
            "__________________________________________________________________________________________________\n",
            "batch_normalization_129 (BatchN (None, 175, 175, 32) 128         conv2d_136[0][0]                 \n",
            "__________________________________________________________________________________________________\n",
            "add_45 (Add)                    (None, 175, 175, 32) 0           activation_127[0][0]             \n",
            "                                                                 batch_normalization_129[0][0]    \n",
            "__________________________________________________________________________________________________\n",
            "activation_129 (Activation)     (None, 175, 175, 32) 0           add_45[0][0]                     \n",
            "__________________________________________________________________________________________________\n",
            "conv2d_137 (Conv2D)             (None, 175, 175, 32) 9248        activation_129[0][0]             \n",
            "__________________________________________________________________________________________________\n",
            "batch_normalization_130 (BatchN (None, 175, 175, 32) 128         conv2d_137[0][0]                 \n",
            "__________________________________________________________________________________________________\n",
            "activation_130 (Activation)     (None, 175, 175, 32) 0           batch_normalization_130[0][0]    \n",
            "__________________________________________________________________________________________________\n",
            "conv2d_138 (Conv2D)             (None, 175, 175, 32) 9248        activation_130[0][0]             \n",
            "__________________________________________________________________________________________________\n",
            "batch_normalization_131 (BatchN (None, 175, 175, 32) 128         conv2d_138[0][0]                 \n",
            "__________________________________________________________________________________________________\n",
            "add_46 (Add)                    (None, 175, 175, 32) 0           activation_129[0][0]             \n",
            "                                                                 batch_normalization_131[0][0]    \n",
            "__________________________________________________________________________________________________\n",
            "activation_131 (Activation)     (None, 175, 175, 32) 0           add_46[0][0]                     \n",
            "__________________________________________________________________________________________________\n",
            "conv2d_139 (Conv2D)             (None, 175, 175, 32) 9248        activation_131[0][0]             \n",
            "__________________________________________________________________________________________________\n",
            "batch_normalization_132 (BatchN (None, 175, 175, 32) 128         conv2d_139[0][0]                 \n",
            "__________________________________________________________________________________________________\n",
            "activation_132 (Activation)     (None, 175, 175, 32) 0           batch_normalization_132[0][0]    \n",
            "__________________________________________________________________________________________________\n",
            "conv2d_140 (Conv2D)             (None, 175, 175, 32) 9248        activation_132[0][0]             \n",
            "__________________________________________________________________________________________________\n",
            "batch_normalization_133 (BatchN (None, 175, 175, 32) 128         conv2d_140[0][0]                 \n",
            "__________________________________________________________________________________________________\n",
            "add_47 (Add)                    (None, 175, 175, 32) 0           activation_131[0][0]             \n",
            "                                                                 batch_normalization_133[0][0]    \n",
            "__________________________________________________________________________________________________\n",
            "activation_133 (Activation)     (None, 175, 175, 32) 0           add_47[0][0]                     \n",
            "__________________________________________________________________________________________________\n",
            "conv2d_141 (Conv2D)             (None, 175, 175, 32) 9248        activation_133[0][0]             \n",
            "__________________________________________________________________________________________________\n",
            "batch_normalization_134 (BatchN (None, 175, 175, 32) 128         conv2d_141[0][0]                 \n",
            "__________________________________________________________________________________________________\n",
            "activation_134 (Activation)     (None, 175, 175, 32) 0           batch_normalization_134[0][0]    \n",
            "__________________________________________________________________________________________________\n",
            "conv2d_142 (Conv2D)             (None, 175, 175, 32) 9248        activation_134[0][0]             \n",
            "__________________________________________________________________________________________________\n",
            "batch_normalization_135 (BatchN (None, 175, 175, 32) 128         conv2d_142[0][0]                 \n",
            "__________________________________________________________________________________________________\n",
            "add_48 (Add)                    (None, 175, 175, 32) 0           activation_133[0][0]             \n",
            "                                                                 batch_normalization_135[0][0]    \n",
            "__________________________________________________________________________________________________\n",
            "activation_135 (Activation)     (None, 175, 175, 32) 0           add_48[0][0]                     \n",
            "__________________________________________________________________________________________________\n",
            "conv2d_143 (Conv2D)             (None, 88, 88, 64)   18496       activation_135[0][0]             \n",
            "__________________________________________________________________________________________________\n",
            "batch_normalization_136 (BatchN (None, 88, 88, 64)   256         conv2d_143[0][0]                 \n",
            "__________________________________________________________________________________________________\n",
            "activation_136 (Activation)     (None, 88, 88, 64)   0           batch_normalization_136[0][0]    \n",
            "__________________________________________________________________________________________________\n",
            "conv2d_144 (Conv2D)             (None, 88, 88, 64)   36928       activation_136[0][0]             \n",
            "__________________________________________________________________________________________________\n",
            "conv2d_145 (Conv2D)             (None, 88, 88, 64)   2112        activation_135[0][0]             \n",
            "__________________________________________________________________________________________________\n",
            "batch_normalization_137 (BatchN (None, 88, 88, 64)   256         conv2d_144[0][0]                 \n",
            "__________________________________________________________________________________________________\n",
            "add_49 (Add)                    (None, 88, 88, 64)   0           conv2d_145[0][0]                 \n",
            "                                                                 batch_normalization_137[0][0]    \n",
            "__________________________________________________________________________________________________\n",
            "activation_137 (Activation)     (None, 88, 88, 64)   0           add_49[0][0]                     \n",
            "__________________________________________________________________________________________________\n",
            "conv2d_146 (Conv2D)             (None, 88, 88, 64)   36928       activation_137[0][0]             \n",
            "__________________________________________________________________________________________________\n",
            "batch_normalization_138 (BatchN (None, 88, 88, 64)   256         conv2d_146[0][0]                 \n",
            "__________________________________________________________________________________________________\n",
            "activation_138 (Activation)     (None, 88, 88, 64)   0           batch_normalization_138[0][0]    \n",
            "__________________________________________________________________________________________________\n",
            "conv2d_147 (Conv2D)             (None, 88, 88, 64)   36928       activation_138[0][0]             \n",
            "__________________________________________________________________________________________________\n",
            "batch_normalization_139 (BatchN (None, 88, 88, 64)   256         conv2d_147[0][0]                 \n",
            "__________________________________________________________________________________________________\n",
            "add_50 (Add)                    (None, 88, 88, 64)   0           activation_137[0][0]             \n",
            "                                                                 batch_normalization_139[0][0]    \n",
            "__________________________________________________________________________________________________\n",
            "activation_139 (Activation)     (None, 88, 88, 64)   0           add_50[0][0]                     \n",
            "__________________________________________________________________________________________________\n",
            "conv2d_148 (Conv2D)             (None, 88, 88, 64)   36928       activation_139[0][0]             \n",
            "__________________________________________________________________________________________________\n",
            "batch_normalization_140 (BatchN (None, 88, 88, 64)   256         conv2d_148[0][0]                 \n",
            "__________________________________________________________________________________________________\n",
            "activation_140 (Activation)     (None, 88, 88, 64)   0           batch_normalization_140[0][0]    \n",
            "__________________________________________________________________________________________________\n",
            "conv2d_149 (Conv2D)             (None, 88, 88, 64)   36928       activation_140[0][0]             \n",
            "__________________________________________________________________________________________________\n",
            "batch_normalization_141 (BatchN (None, 88, 88, 64)   256         conv2d_149[0][0]                 \n",
            "__________________________________________________________________________________________________\n",
            "add_51 (Add)                    (None, 88, 88, 64)   0           activation_139[0][0]             \n",
            "                                                                 batch_normalization_141[0][0]    \n",
            "__________________________________________________________________________________________________\n",
            "activation_141 (Activation)     (None, 88, 88, 64)   0           add_51[0][0]                     \n",
            "__________________________________________________________________________________________________\n",
            "conv2d_150 (Conv2D)             (None, 88, 88, 64)   36928       activation_141[0][0]             \n",
            "__________________________________________________________________________________________________\n",
            "batch_normalization_142 (BatchN (None, 88, 88, 64)   256         conv2d_150[0][0]                 \n",
            "__________________________________________________________________________________________________\n",
            "activation_142 (Activation)     (None, 88, 88, 64)   0           batch_normalization_142[0][0]    \n",
            "__________________________________________________________________________________________________\n",
            "conv2d_151 (Conv2D)             (None, 88, 88, 64)   36928       activation_142[0][0]             \n",
            "__________________________________________________________________________________________________\n",
            "batch_normalization_143 (BatchN (None, 88, 88, 64)   256         conv2d_151[0][0]                 \n",
            "__________________________________________________________________________________________________\n",
            "add_52 (Add)                    (None, 88, 88, 64)   0           activation_141[0][0]             \n",
            "                                                                 batch_normalization_143[0][0]    \n",
            "__________________________________________________________________________________________________\n",
            "activation_143 (Activation)     (None, 88, 88, 64)   0           add_52[0][0]                     \n",
            "__________________________________________________________________________________________________\n",
            "conv2d_152 (Conv2D)             (None, 88, 88, 64)   36928       activation_143[0][0]             \n",
            "__________________________________________________________________________________________________\n",
            "batch_normalization_144 (BatchN (None, 88, 88, 64)   256         conv2d_152[0][0]                 \n",
            "__________________________________________________________________________________________________\n",
            "activation_144 (Activation)     (None, 88, 88, 64)   0           batch_normalization_144[0][0]    \n",
            "__________________________________________________________________________________________________\n",
            "conv2d_153 (Conv2D)             (None, 88, 88, 64)   36928       activation_144[0][0]             \n",
            "__________________________________________________________________________________________________\n",
            "batch_normalization_145 (BatchN (None, 88, 88, 64)   256         conv2d_153[0][0]                 \n",
            "__________________________________________________________________________________________________\n",
            "add_53 (Add)                    (None, 88, 88, 64)   0           activation_143[0][0]             \n",
            "                                                                 batch_normalization_145[0][0]    \n",
            "__________________________________________________________________________________________________\n",
            "activation_145 (Activation)     (None, 88, 88, 64)   0           add_53[0][0]                     \n",
            "__________________________________________________________________________________________________\n",
            "conv2d_154 (Conv2D)             (None, 88, 88, 64)   36928       activation_145[0][0]             \n",
            "__________________________________________________________________________________________________\n",
            "batch_normalization_146 (BatchN (None, 88, 88, 64)   256         conv2d_154[0][0]                 \n",
            "__________________________________________________________________________________________________\n",
            "activation_146 (Activation)     (None, 88, 88, 64)   0           batch_normalization_146[0][0]    \n",
            "__________________________________________________________________________________________________\n",
            "conv2d_155 (Conv2D)             (None, 88, 88, 64)   36928       activation_146[0][0]             \n",
            "__________________________________________________________________________________________________\n",
            "batch_normalization_147 (BatchN (None, 88, 88, 64)   256         conv2d_155[0][0]                 \n",
            "__________________________________________________________________________________________________\n",
            "add_54 (Add)                    (None, 88, 88, 64)   0           activation_145[0][0]             \n",
            "                                                                 batch_normalization_147[0][0]    \n",
            "__________________________________________________________________________________________________\n",
            "activation_147 (Activation)     (None, 88, 88, 64)   0           add_54[0][0]                     \n",
            "__________________________________________________________________________________________________\n",
            "average_pooling2d_3 (AveragePoo (None, 11, 11, 64)   0           activation_147[0][0]             \n",
            "__________________________________________________________________________________________________\n",
            "flatten_3 (Flatten)             (None, 7744)         0           average_pooling2d_3[0][0]        \n",
            "__________________________________________________________________________________________________\n",
            "dense_3 (Dense)                 (None, 60)           464700      flatten_3[0][0]                  \n",
            "==================================================================================================\n",
            "Total params: 1,032,156\n",
            "Trainable params: 1,029,436\n",
            "Non-trainable params: 2,720\n",
            "__________________________________________________________________________________________________\n",
            "ResNet38v1\n"
          ],
          "name": "stdout"
        }
      ]
    },
    {
      "cell_type": "code",
      "metadata": {
        "id": "ZwQsk6mjaPqv",
        "colab_type": "code",
        "colab": {}
      },
      "source": [
        "# Prepare model model saving directory.\n",
        "save_dir = os.path.join(os.getcwd(), 'saved_models')\n",
        "model_name = 'cifar10_%s_model.{epoch:03d}.h5' % model_type\n",
        "if not os.path.isdir(save_dir):\n",
        "    os.makedirs(save_dir)\n",
        "filepath = os.path.join(save_dir, model_name)\n",
        "\n",
        "# Prepare callbacks for model saving and for learning rate adjustment.\n",
        "checkpoint = ModelCheckpoint(filepath=filepath,\n",
        "                             monitor='val_acc',\n",
        "                             verbose=1,\n",
        "                             save_best_only=True)\n",
        "\n",
        "lr_scheduler = LearningRateScheduler(lr_schedule)\n",
        "\n",
        "lr_reducer = ReduceLROnPlateau(factor=np.sqrt(0.1),\n",
        "                               cooldown=0,\n",
        "                               patience=5,\n",
        "                               min_lr=0.5e-6)\n",
        "\n",
        "callbacks = [checkpoint, lr_reducer, lr_scheduler]"
      ],
      "execution_count": 0,
      "outputs": []
    },
    {
      "cell_type": "code",
      "metadata": {
        "id": "2_RQ6czDaYnA",
        "colab_type": "code",
        "outputId": "7f43f7c8-87b4-4572-dafd-e096aca9e5da",
        "colab": {
          "base_uri": "https://localhost:8080/",
          "height": 1000
        }
      },
      "source": [
        "# Run training, with or without data augmentation.\n",
        "if not data_augmentation:\n",
        "    print('Not using data augmentation.')\n",
        "    model.fit(X_train, y_train,\n",
        "              batch_size=batch_size,\n",
        "              epochs=epochs,\n",
        "              validation_data=(X_test, y_test),\n",
        "              shuffle=True,\n",
        "              callbacks=callbacks)\n",
        "else:\n",
        "    print('Using real-time data augmentation.')\n",
        "    # This will do preprocessing and realtime data augmentation:\n",
        "    datagen = ImageDataGenerator(\n",
        "        # set input mean to 0 over the dataset\n",
        "        featurewise_center=False,\n",
        "        # set each sample mean to 0\n",
        "        samplewise_center=False,\n",
        "        # divide inputs by std of dataset\n",
        "        featurewise_std_normalization=False,\n",
        "        # divide each input by its std\n",
        "        samplewise_std_normalization=False,\n",
        "        # apply ZCA whitening\n",
        "        zca_whitening=False,\n",
        "        # epsilon for ZCA whitening\n",
        "        zca_epsilon=1e-06,\n",
        "        # randomly rotate images in the range (deg 0 to 180)\n",
        "        rotation_range=0,\n",
        "        # randomly shift images horizontally\n",
        "        width_shift_range=0.1,\n",
        "        # randomly shift images vertically\n",
        "        height_shift_range=0.1,\n",
        "        # set range for random shear\n",
        "        shear_range=0.,\n",
        "        # set range for random zoom\n",
        "        zoom_range=0.,\n",
        "        # set range for random channel shifts\n",
        "        channel_shift_range=0.,\n",
        "        # set mode for filling points outside the input boundaries\n",
        "        fill_mode='nearest',\n",
        "        # value used for fill_mode = \"constant\"\n",
        "        cval=0.,\n",
        "        # randomly flip images\n",
        "        horizontal_flip=True,\n",
        "        # randomly flip images\n",
        "        vertical_flip=False,\n",
        "        # set rescaling factor (applied before any other transformation)\n",
        "        rescale=None,\n",
        "        # set function that will be applied on each input\n",
        "        preprocessing_function=None,\n",
        "        # image data format, either \"channels_first\" or \"channels_last\"\n",
        "        data_format=None,\n",
        "        # fraction of images reserved for validation (strictly between 0 and 1)\n",
        "        validation_split=0.0)\n",
        "\n",
        "    # Compute quantities required for featurewise normalization\n",
        "    # (std, mean, and principal components if ZCA whitening is applied).\n",
        "    datagen.fit(X_train)\n",
        "\n",
        "    # Fit the model on the batches generated by datagen.flow().\n",
        "    model.fit_generator(datagen.flow(X_train, y_train, batch_size=batch_size),\n",
        "                        validation_data=(X_test, y_test),\n",
        "                        epochs=epochs, verbose=1, workers=4, \n",
        "                        callbacks=callbacks)"
      ],
      "execution_count": 0,
      "outputs": [
        {
          "output_type": "stream",
          "text": [
            "Not using data augmentation.\n",
            "Train on 914 samples, validate on 229 samples\n",
            "Epoch 1/25\n",
            "Learning rate:  0.001\n",
            "914/914 [==============================] - 63s 69ms/step - loss: 9.6979 - accuracy: 0.0624 - val_loss: 51.7277 - val_accuracy: 0.1179\n",
            "Epoch 2/25\n",
            "Learning rate:  0.001\n"
          ],
          "name": "stdout"
        },
        {
          "output_type": "stream",
          "text": [
            "/usr/local/lib/python3.6/dist-packages/keras/callbacks/callbacks.py:707: RuntimeWarning: Can save best model only with val_acc available, skipping.\n",
            "  'skipping.' % (self.monitor), RuntimeWarning)\n"
          ],
          "name": "stderr"
        },
        {
          "output_type": "stream",
          "text": [
            "914/914 [==============================] - 51s 56ms/step - loss: 2.8747 - accuracy: 0.3589 - val_loss: 3.7266 - val_accuracy: 0.2576\n",
            "Epoch 3/25\n",
            "Learning rate:  0.001\n",
            "914/914 [==============================] - 51s 56ms/step - loss: 1.9275 - accuracy: 0.5886 - val_loss: 2.9502 - val_accuracy: 0.4498\n",
            "Epoch 4/25\n",
            "Learning rate:  0.001\n",
            "914/914 [==============================] - 51s 56ms/step - loss: 1.4427 - accuracy: 0.7462 - val_loss: 3.0463 - val_accuracy: 0.3886\n",
            "Epoch 5/25\n",
            "Learning rate:  0.001\n",
            "914/914 [==============================] - 51s 56ms/step - loss: 0.9589 - accuracy: 0.8359 - val_loss: 2.4752 - val_accuracy: 0.7074\n",
            "Epoch 6/25\n",
            "Learning rate:  0.001\n",
            "914/914 [==============================] - 51s 56ms/step - loss: 0.8307 - accuracy: 0.8764 - val_loss: 2.9255 - val_accuracy: 0.4236\n",
            "Epoch 7/25\n",
            "Learning rate:  0.001\n",
            "914/914 [==============================] - 51s 56ms/step - loss: 0.6800 - accuracy: 0.9278 - val_loss: 1.9280 - val_accuracy: 0.7598\n",
            "Epoch 8/25\n",
            "Learning rate:  0.001\n",
            "914/914 [==============================] - 51s 56ms/step - loss: 0.7109 - accuracy: 0.9344 - val_loss: 2.1016 - val_accuracy: 0.7336\n",
            "Epoch 9/25\n",
            "Learning rate:  0.001\n",
            "914/914 [==============================] - 51s 56ms/step - loss: 0.5291 - accuracy: 0.9562 - val_loss: 1.9688 - val_accuracy: 0.7729\n",
            "Epoch 10/25\n",
            "Learning rate:  0.001\n",
            "914/914 [==============================] - 51s 56ms/step - loss: 0.5991 - accuracy: 0.9464 - val_loss: 2.2510 - val_accuracy: 0.7686\n",
            "Epoch 11/25\n",
            "Learning rate:  0.001\n",
            "914/914 [==============================] - 51s 56ms/step - loss: 0.5693 - accuracy: 0.9387 - val_loss: 2.3087 - val_accuracy: 0.7686\n",
            "Epoch 12/25\n",
            "Learning rate:  0.001\n",
            "914/914 [==============================] - 51s 56ms/step - loss: 0.6171 - accuracy: 0.9431 - val_loss: 2.6392 - val_accuracy: 0.7860\n",
            "Epoch 13/25\n",
            "Learning rate:  0.001\n",
            "914/914 [==============================] - 51s 56ms/step - loss: 0.5826 - accuracy: 0.9442 - val_loss: 2.5418 - val_accuracy: 0.7904\n",
            "Epoch 14/25\n",
            "Learning rate:  0.001\n",
            "914/914 [==============================] - 51s 56ms/step - loss: 0.4751 - accuracy: 0.9606 - val_loss: 2.4856 - val_accuracy: 0.8122\n",
            "Epoch 15/25\n",
            "Learning rate:  0.001\n",
            "914/914 [==============================] - 51s 56ms/step - loss: 0.5086 - accuracy: 0.9584 - val_loss: 3.0363 - val_accuracy: 0.8035\n",
            "Epoch 16/25\n",
            "Learning rate:  0.001\n",
            "914/914 [==============================] - 51s 56ms/step - loss: 0.4869 - accuracy: 0.9661 - val_loss: 3.3451 - val_accuracy: 0.6856\n",
            "Epoch 17/25\n",
            "Learning rate:  0.001\n",
            "914/914 [==============================] - 51s 56ms/step - loss: 0.4016 - accuracy: 0.9737 - val_loss: 1.8948 - val_accuracy: 0.8210\n",
            "Epoch 18/25\n",
            "Learning rate:  0.001\n",
            "914/914 [==============================] - 51s 56ms/step - loss: 0.4546 - accuracy: 0.9705 - val_loss: 1.9481 - val_accuracy: 0.8122\n",
            "Epoch 19/25\n",
            "Learning rate:  0.001\n",
            "914/914 [==============================] - 51s 56ms/step - loss: 0.3417 - accuracy: 0.9716 - val_loss: 1.7914 - val_accuracy: 0.8253\n",
            "Epoch 20/25\n",
            "Learning rate:  0.001\n",
            "914/914 [==============================] - 51s 56ms/step - loss: 0.3402 - accuracy: 0.9803 - val_loss: 1.8189 - val_accuracy: 0.8210\n",
            "Epoch 21/25\n",
            "Learning rate:  0.001\n",
            "914/914 [==============================] - 51s 56ms/step - loss: 0.4088 - accuracy: 0.9737 - val_loss: 1.8144 - val_accuracy: 0.8253\n",
            "Epoch 22/25\n",
            "Learning rate:  0.001\n",
            "914/914 [==============================] - 51s 56ms/step - loss: 0.3563 - accuracy: 0.9770 - val_loss: 1.8701 - val_accuracy: 0.8253\n",
            "Epoch 23/25\n",
            "Learning rate:  0.001\n",
            "914/914 [==============================] - 51s 56ms/step - loss: 0.5157 - accuracy: 0.9540 - val_loss: 2.3390 - val_accuracy: 0.8035\n",
            "Epoch 24/25\n",
            "Learning rate:  0.001\n",
            "914/914 [==============================] - 51s 56ms/step - loss: 0.4405 - accuracy: 0.9639 - val_loss: 1.7813 - val_accuracy: 0.7991\n",
            "Epoch 25/25\n",
            "Learning rate:  0.001\n",
            "914/914 [==============================] - 51s 56ms/step - loss: 0.3645 - accuracy: 0.9683 - val_loss: 1.7499 - val_accuracy: 0.8297\n"
          ],
          "name": "stdout"
        }
      ]
    },
    {
      "cell_type": "code",
      "metadata": {
        "id": "wvRe1A_UacrW",
        "colab_type": "code",
        "outputId": "be99917c-c69c-4ca4-f111-e360391b8968",
        "colab": {
          "base_uri": "https://localhost:8080/",
          "height": 68
        }
      },
      "source": [
        "# Score trained model.\n",
        "scores = model.evaluate(X_test, y_test, verbose=1)\n",
        "print('Test loss:', scores[0])\n",
        "print('Test accuracy:', scores[1])"
      ],
      "execution_count": 0,
      "outputs": [
        {
          "output_type": "stream",
          "text": [
            "229/229 [==============================] - 4s 16ms/step\n",
            "Test loss: 1.749909848625483\n",
            "Test accuracy: 0.8296943306922913\n"
          ],
          "name": "stdout"
        }
      ]
    },
    {
      "cell_type": "code",
      "metadata": {
        "id": "qTSveWygtqCZ",
        "colab_type": "code",
        "colab": {}
      },
      "source": [
        "img = keras.preprocessing.image.load_img('/content/4866805cv12d.jpg',target_size=(350,350,3))\n",
        "img = keras.preprocessing.image.img_to_array(img)\n",
        "img = img/255"
      ],
      "execution_count": 0,
      "outputs": []
    },
    {
      "cell_type": "code",
      "metadata": {
        "id": "f3Tx6tXjOXg7",
        "colab_type": "code",
        "colab": {}
      },
      "source": [
        "myset = set(y_copy)\n",
        "mynewlist = list(myset)\n",
        "mynewlist = np.array(mynewlist)"
      ],
      "execution_count": 0,
      "outputs": []
    },
    {
      "cell_type": "code",
      "metadata": {
        "id": "4BBSX3Tfty5u",
        "colab_type": "code",
        "outputId": "7ee99585-fd1a-4896-c834-9fbb095720b3",
        "colab": {
          "base_uri": "https://localhost:8080/",
          "height": 371
        }
      },
      "source": [
        "classes = np.array(mynewlist)\n",
        "proba = model.predict(img.reshape(1,350,350,3))\n",
        "top_3 = np.argsort(proba[0])[:-5:-1]\n",
        "print(top_3)\n",
        "for i in range(4):\n",
        "    print(\"{}\".format(classes[top_3[i]])+\" ({:.4})\".format(proba[0][top_3[i]]))\n",
        "plt.imshow(img)"
      ],
      "execution_count": 0,
      "outputs": [
        {
          "output_type": "stream",
          "text": [
            "[13 34 14 33]\n",
            "Canon - PowerShot G7 X Mark II 20.1-Megapixel Digital Camera Video Creator Kit - Black (0.9986)\n",
            "Nikon - COOLPIX B500 16.0-Megapixel Digital Camera - Plum (0.0004707)\n",
            "Sony - Alpha a5100 Mirrorless Camera (Body Only) - Black (0.0004376)\n",
            "Sony - Cybershot RX1R II 42.4-Megapixel Digital Camera - Black (0.0004013)\n"
          ],
          "name": "stdout"
        },
        {
          "output_type": "execute_result",
          "data": {
            "text/plain": [
              "<matplotlib.image.AxesImage at 0x7f8520f53cc0>"
            ]
          },
          "metadata": {
            "tags": []
          },
          "execution_count": 57
        },
        {
          "output_type": "display_data",
          "data": {
            "image/png": "[encoded data removed]",
            "text/plain": [
              "<Figure size 432x288 with 1 Axes>"
            ]
          },
          "metadata": {
            "tags": [],
            "needs_background": "light"
          }
        }
      ]
    },
    {
      "cell_type": "code",
      "metadata": {
        "id": "LhfSNU9RNLni",
        "colab_type": "code",
        "colab": {}
      },
      "source": [
        "for i in range(len(y_copy)):\n",
        "    print(i, y_copy[i])\n"
      ],
      "execution_count": 0,
      "outputs": []
    }
  ]
}